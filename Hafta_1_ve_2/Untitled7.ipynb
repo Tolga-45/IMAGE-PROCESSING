{
 "cells": [
  {
   "cell_type": "code",
   "execution_count": null,
   "id": "9f18d1a9-e945-4048-892f-0431481404ca",
   "metadata": {},
   "outputs": [],
   "source": [
    "import cv2\n",
    "import numpy as np"
   ]
  },
  {
   "cell_type": "code",
   "execution_count": null,
   "id": "a07e67b9-f46d-47fe-97ef-9d7aa48d7e9e",
   "metadata": {},
   "outputs": [],
   "source": [
    "my_img = cv2.imread(\"./image.jfif\",1)\n",
    "print(my_img.shape)"
   ]
  },
  {
   "cell_type": "code",
   "execution_count": null,
   "id": "014b74a1-8e32-4df0-8bff-7db67587d336",
   "metadata": {},
   "outputs": [],
   "source": [
    "type(my_img)"
   ]
  },
  {
   "cell_type": "code",
   "execution_count": null,
   "id": "89b12bd6-e795-4921-b9d7-01cff3020955",
   "metadata": {},
   "outputs": [],
   "source": [
    "my_img"
   ]
  },
  {
   "cell_type": "code",
   "execution_count": null,
   "id": "199edd18-9a64-4201-b146-af70900b2d8e",
   "metadata": {},
   "outputs": [],
   "source": [
    "print(np.max(my_img))\n",
    "print(np.min(my_img))"
   ]
  },
  {
   "cell_type": "code",
   "execution_count": null,
   "id": "69178a51-2f59-4043-874f-28df6b4d2118",
   "metadata": {},
   "outputs": [],
   "source": [
    "B, G, R = cv2.split(my_img)"
   ]
  },
  {
   "cell_type": "code",
   "execution_count": null,
   "id": "efd76e7b-a97e-431d-afe9-462117ad183c",
   "metadata": {},
   "outputs": [],
   "source": [
    "my_img.shape"
   ]
  },
  {
   "cell_type": "code",
   "execution_count": null,
   "id": "608dc769-e7e1-466b-b286-4a5d6b034455",
   "metadata": {},
   "outputs": [],
   "source": [
    "B.shape"
   ]
  },
  {
   "cell_type": "code",
   "execution_count": null,
   "id": "0a457682-a639-498b-bf86-815c1cb3e4af",
   "metadata": {},
   "outputs": [],
   "source": [
    "cv2.imshow(\"RGB image\",my_img)\n",
    "cv2.waitKey(0)\n",
    "cv2.destroyAllWindows()"
   ]
  },
  {
   "cell_type": "code",
   "execution_count": null,
   "id": "760a55d2-4c30-4c89-a6d1-56efce61748d",
   "metadata": {},
   "outputs": [],
   "source": [
    "#B, G, R = cv2.split(my_img)\n",
    "\n",
    "cv2.imshow(\"Blue image\",B)\n",
    "cv2.imshow(\"Green image\",G)\n",
    "cv2.imshow(\"Red image\",R)\n",
    "cv2.imshow(\"RGB image\",my_img)\n",
    "\n",
    "cv2.waitKey(0)\n",
    "cv2.destroyAllWindows()"
   ]
  },
  {
   "cell_type": "code",
   "execution_count": null,
   "id": "28c98cb3-5d8d-4bf6-ae5d-e6fc18dab10c",
   "metadata": {},
   "outputs": [],
   "source": [
    "# İki kanallı görüntüler -> RB - RG - BG\n",
    "\n",
    "RB_image = cv2.merge([B, np.zeros_like(G), R])\n",
    "\n",
    "cv2.imshow(\"RB image\",RB_image)\n",
    "cv2.waitKey(0)\n",
    "cv2.destroyAllWindows()"
   ]
  },
  {
   "cell_type": "code",
   "execution_count": null,
   "id": "866812a4-b698-481d-9164-9c6539d68a54",
   "metadata": {},
   "outputs": [],
   "source": [
    "RG_image = cv2.merge([np.zeros_like(B), G, R])\n",
    "\n",
    "cv2.imshow(\"RG image\",RG_image)\n",
    "cv2.waitKey(0)\n",
    "cv2.destroyAllWindows()"
   ]
  },
  {
   "cell_type": "code",
   "execution_count": null,
   "id": "f4fe04d1-5351-4b07-905e-1fab8e602006",
   "metadata": {},
   "outputs": [],
   "source": [
    "BG_image = cv2.merge([B, G, np.zeros_like(R)])\n",
    "\n",
    "cv2.imshow(\"BG image\",BG_image)\n",
    "cv2.waitKey(0)\n",
    "cv2.destroyAllWindows()"
   ]
  }
 ],
 "metadata": {
  "kernelspec": {
   "display_name": "tf_gpu_2_9_2",
   "language": "python",
   "name": "tf_gpu_2_9_2"
  },
  "language_info": {
   "codemirror_mode": {
    "name": "ipython",
    "version": 3
   },
   "file_extension": ".py",
   "mimetype": "text/x-python",
   "name": "python",
   "nbconvert_exporter": "python",
   "pygments_lexer": "ipython3",
   "version": "3.10.14"
  }
 },
 "nbformat": 4,
 "nbformat_minor": 5
}
