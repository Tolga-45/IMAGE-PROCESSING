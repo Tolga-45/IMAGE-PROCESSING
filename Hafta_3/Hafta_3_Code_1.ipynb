{
 "cells": [
  {
   "cell_type": "code",
   "execution_count": 1,
   "id": "d751a54e-f409-4c16-9694-0276c4136b31",
   "metadata": {},
   "outputs": [],
   "source": [
    "import cv2\n",
    "import numpy as np"
   ]
  },
  {
   "cell_type": "code",
   "execution_count": 3,
   "id": "ad29987c-2510-49fe-aba8-77abd6d971cf",
   "metadata": {},
   "outputs": [
    {
     "name": "stdout",
     "output_type": "stream",
     "text": [
      "(900, 1200, 3)\n"
     ]
    }
   ],
   "source": [
    "my_img = cv2.imread(\"./aslan.jpg\",1)\n",
    "print(my_img.shape)"
   ]
  },
  {
   "cell_type": "code",
   "execution_count": 5,
   "id": "47b07759-21b6-466c-af3a-82190756cf65",
   "metadata": {},
   "outputs": [],
   "source": [
    "cv2.imshow(\"RGB Image\",my_img)\n",
    "cv2.waitKey(0)\n",
    "cv2.destroyAllWindows()"
   ]
  },
  {
   "cell_type": "code",
   "execution_count": 7,
   "id": "83240c7b-3e5a-4733-a2e4-a492c4286a0a",
   "metadata": {},
   "outputs": [],
   "source": [
    "#cv2.flip() fonksiyonu 2 parametre alır.\n",
    "# 1. parametre: görüntünün saklandığı değişken\n",
    "# bu örnekte bu değişkenin adı my_img\n",
    "# 2. parametre ise 0,1 ya da -1 değerlerinden biri\n",
    "# dikey eksende görüntüyü döndürmek için 0\n",
    "# yatay eksende görüntüyü döndürmek için 1\n",
    "# her iki eksende de döndürmek için -1\n",
    "\n",
    "img_vertical = cv2.flip(my_img,0)\n",
    "img_horizontal = cv2.flip(my_img,1)\n",
    "img_both = cv2.flip(my_img,-1)"
   ]
  },
  {
   "cell_type": "code",
   "execution_count": 9,
   "id": "673c993e-14bd-4bde-9814-b2c8a58f5aea",
   "metadata": {},
   "outputs": [],
   "source": [
    "cv2.imshow(\"Original Image\",my_img)\n",
    "cv2.imshow(\"Vertical Image\",img_vertical)\n",
    "cv2.imshow(\"Horizontal Image\",img_horizontal)\n",
    "cv2.imshow(\"Vertical and Horizontal Image\",img_both)\n",
    "cv2.waitKey(0)\n",
    "cv2.destroyAllWindows()"
   ]
  },
  {
   "cell_type": "code",
   "execution_count": 11,
   "id": "4cebbcca-9e4e-4594-ac9a-3aadd970eca1",
   "metadata": {},
   "outputs": [
    {
     "data": {
      "text/plain": [
       "numpy.ndarray"
      ]
     },
     "execution_count": 11,
     "metadata": {},
     "output_type": "execute_result"
    }
   ],
   "source": [
    "type(my_img)"
   ]
  },
  {
   "cell_type": "code",
   "execution_count": 19,
   "id": "fa81904b-40ff-4a14-8ac2-cb8e8f613873",
   "metadata": {},
   "outputs": [],
   "source": [
    "vertical_with_code = my_img[::-1,:,:]\n",
    "cv2.imshow(\"Vertical Image With Code\",vertical_with_code)\n",
    "cv2.waitKey(0)\n",
    "cv2.destroyAllWindows()"
   ]
  },
  {
   "cell_type": "code",
   "execution_count": 17,
   "id": "a021b559-3ef1-4fdb-b7b8-6822f82fa755",
   "metadata": {},
   "outputs": [
    {
     "name": "stdout",
     "output_type": "stream",
     "text": [
      "[1, 2, 3, 4, 5, 6, 7, 8, 9, 10]\n",
      "[10, 9, 8, 7, 6, 5, 4, 3, 2, 1]\n",
      "ilk değer = 1\n",
      "son değer = 10\n",
      "son değer (ikinci yöntem) = 10\n"
     ]
    }
   ],
   "source": [
    "my_list = [x for x in range(1,11)]\n",
    "print(my_list)\n",
    "\n",
    "print(my_list[::-1])\n",
    "print(f\"ilk değer = {my_list[0]}\")\n",
    "print(f\"son değer = {my_list[9]}\")\n",
    "print(f\"son değer (ikinci yöntem) = {my_list[-1]}\")"
   ]
  },
  {
   "cell_type": "code",
   "execution_count": 21,
   "id": "f9a472c9-204a-47c8-8d6a-2fb67da17574",
   "metadata": {},
   "outputs": [],
   "source": [
    "horizontal_with_code = my_img[:,::-1,:]\n",
    "cv2.imshow(\"Horizontal Image With Code\",horizontal_with_code)\n",
    "cv2.waitKey(0)\n",
    "cv2.destroyAllWindows()"
   ]
  },
  {
   "cell_type": "code",
   "execution_count": 23,
   "id": "37cb1ca2-c399-4586-a750-49690e3fb7a3",
   "metadata": {},
   "outputs": [],
   "source": [
    "both_with_code = my_img[::-1,::-1,:]\n",
    "cv2.imshow(\"Vertical and Horizontal Image With Code\",both_with_code)\n",
    "cv2.waitKey(0)\n",
    "cv2.destroyAllWindows()"
   ]
  },
  {
   "cell_type": "code",
   "execution_count": 27,
   "id": "a9052ec2-96af-4790-91c7-b5da00dc74c8",
   "metadata": {},
   "outputs": [
    {
     "name": "stdout",
     "output_type": "stream",
     "text": [
      "(900, 1200, 3)\n",
      "Görüntünün Yüksekliği = 900\n",
      "Görüntünün Genişliği = 1200\n",
      "Görüntünün Kanal Sayısı = 3\n"
     ]
    }
   ],
   "source": [
    "#Resize Processing\n",
    "print(my_img.shape)\n",
    "print(f\"Görüntünün Yüksekliği = {my_img.shape[0]}\")\n",
    "print(f\"Görüntünün Genişliği = {my_img.shape[1]}\")\n",
    "print(f\"Görüntünün Kanal Sayısı = {my_img.shape[2]}\")"
   ]
  },
  {
   "cell_type": "code",
   "execution_count": 33,
   "id": "222c462e-c535-49f7-b834-ba610d8222d6",
   "metadata": {},
   "outputs": [],
   "source": [
    "# cv2 kütüphanesi bir görüntüyü okurken, onun shape özelliğine\n",
    "# yani boyut özelliğine baktığımızda önce yükseklik sonra\n",
    "# genişlik bilgisini verir\n",
    "# ancak işlem yaparken (örneğin resize işleminde) önce\n",
    "# genişlik sonra yükseklik bilgisi girilir\n",
    "resized_img = cv2.resize(my_img,(600,450),cv2.INTER_LANCZOS4)\n",
    "\n",
    "cv2.imshow(\"Original Image\",my_img)\n",
    "cv2.imshow(\"Resized Image\",resized_img)\n",
    "cv2.waitKey(0)\n",
    "cv2.destroyAllWindows()"
   ]
  },
  {
   "cell_type": "code",
   "execution_count": null,
   "id": "70ad32c7-b721-4ea0-b1ca-e95d58754ecc",
   "metadata": {},
   "outputs": [],
   "source": []
  }
 ],
 "metadata": {
  "kernelspec": {
   "display_name": "tf_gpu_2_9_2",
   "language": "python",
   "name": "tf_gpu_2_9_2"
  },
  "language_info": {
   "codemirror_mode": {
    "name": "ipython",
    "version": 3
   },
   "file_extension": ".py",
   "mimetype": "text/x-python",
   "name": "python",
   "nbconvert_exporter": "python",
   "pygments_lexer": "ipython3",
   "version": "3.10.14"
  }
 },
 "nbformat": 4,
 "nbformat_minor": 5
}
