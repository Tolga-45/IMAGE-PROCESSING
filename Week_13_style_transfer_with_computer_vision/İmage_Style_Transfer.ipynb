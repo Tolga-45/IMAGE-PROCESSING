{
 "cells": [
  {
   "cell_type": "code",
   "execution_count": 1,
   "id": "8fd156c4-411e-46bc-a6b3-9c0e1fde9adb",
   "metadata": {},
   "outputs": [],
   "source": [
    "import tensorflow as tf\n",
    "import tensorflow_hub as hub\n",
    "import numpy as np\n",
    "from PIL import Image"
   ]
  },
  {
   "cell_type": "code",
   "execution_count": 6,
   "id": "7314a384-d4fd-49d3-a25e-238d168ed699",
   "metadata": {},
   "outputs": [
    {
     "name": "stdout",
     "output_type": "stream",
     "text": [
      "stil aktarma işlemi başlıyor\n"
     ]
    }
   ],
   "source": [
    "def load_img(image_path):\n",
    "    img = tf.io.read_file(image_path)\n",
    "    img = tf.image.decode_image(img, channels=3)\n",
    "    img = tf.image.convert_image_dtype(img, tf.float32)\n",
    "    img = img [tf.newaxis, :]\n",
    "    return img\n",
    "\n",
    "model =hub.load('https://tfhub.dev/google/magenta/arbitrary-image-stylization-v1-256/2')\n",
    "\n",
    "img_input = load_img(\"./input.jpg\")\n",
    "img_style = load_img(\"./my_style_1.jpg\")\n",
    "\n",
    "print(\"stil aktarma işlemi başlıyor\")\n",
    "\n",
    "my_output_img = model(img_input, img_style)[0]\n",
    "\n",
    "my_output_img = tf.keras.preprocessing.image.array_to_img(my_output_img[0])\n",
    "my_output_img.save(\"./my_transformed_img_1.png\")"
   ]
  },
  {
   "cell_type": "code",
   "execution_count": null,
   "id": "4580e3db-ceb0-4bd2-a526-f723cefc6bff",
   "metadata": {},
   "outputs": [],
   "source": []
  }
 ],
 "metadata": {
  "kernelspec": {
   "display_name": "ybs4_env",
   "language": "python",
   "name": "ybs4_env"
  },
  "language_info": {
   "codemirror_mode": {
    "name": "ipython",
    "version": 3
   },
   "file_extension": ".py",
   "mimetype": "text/x-python",
   "name": "python",
   "nbconvert_exporter": "python",
   "pygments_lexer": "ipython3",
   "version": "3.10.10"
  }
 },
 "nbformat": 4,
 "nbformat_minor": 5
}
